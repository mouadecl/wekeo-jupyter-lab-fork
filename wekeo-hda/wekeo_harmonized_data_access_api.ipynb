{
 "cells": [
  {
   "cell_type": "markdown",
   "metadata": {},
   "source": [
    "<img src='./img/LogoWekeo_Copernicus_RGB_0.png' alt='' align='centre' width='30%'></img>"
   ]
  },
  {
   "cell_type": "markdown",
   "metadata": {},
   "source": [
    "# WEkEO Harmonized Data Access (HDA) API - How-To"
   ]
  },
  {
   "cell_type": "markdown",
   "metadata": {},
   "source": [
    "[WEkEO](https://www.wekeo.eu/) is the EU Copernicus DIAS (Data and Information Access Service) reference service for environmental data, virtual processing environments and skilled user support.\n",
    "\n",
    "WEkEO offers access to a variety of data, including different parameters sensored from Sentinel-1, Sentinel-2 and Sentinel-3. It further offers access to climate reanalysis and seasonal forecast data.\n",
    "\n",
    "The [Harmonised Data Access (HDA) API](https://www.wekeo.eu/documentation/using_jupyter_notebooks), a REST interface, allows users to subset and download datasets from WEkEO.\n",
    "\n",
    "This notebook is a step-by-step guide on how to search for and download data from WEkEO using the `HDA API`. The notebook makes use of functions stored in the notebook [hda_api_functions](./hda_api_functions.ipynb).\n",
    "\n",
    "Follow the following steps:\n",
    "\n",
    " - [1. Search for datasets on WEkEO](#wekeo_search)\n",
    " - [2. Get the dataset's ID](#wekeo_dataset_id)\n",
    " - [3. Get your WEkEO API key](#wekeo_api_key)\n",
    " - [4. Initialise the WEkEO Harmonised Data Access request](#wekeo_hda_request)\n",
    " - [5. Load data descriptor file and request data](#wekeo_json)\n",
    " - [6. Download requested data](#wekeo_download)"
   ]
  },
  {
   "cell_type": "markdown",
   "metadata": {},
   "source": [
    "#### Load required libraries"
   ]
  },
  {
   "cell_type": "code",
   "execution_count": null,
   "metadata": {},
   "outputs": [],
   "source": [
    "import os\n",
    "import sys\n",
    "import json\n",
    "import time\n",
    "import base64\n",
    "from IPython.core.display import HTML\n",
    "\n",
    "import requests\n",
    "import warnings\n",
    "warnings.filterwarnings('ignore')"
   ]
  },
  {
   "cell_type": "markdown",
   "metadata": {},
   "source": [
    "#### Load helper functions"
   ]
  },
  {
   "cell_type": "code",
   "execution_count": null,
   "metadata": {},
   "outputs": [],
   "source": [
    "from hda_api_functions import *"
   ]
  },
  {
   "cell_type": "markdown",
   "metadata": {},
   "source": [
    "<hr>"
   ]
  },
  {
   "cell_type": "markdown",
   "metadata": {},
   "source": [
    "### <a id='wekeo_search'></a>1. Search for datasets on WEkEO"
   ]
  },
  {
   "cell_type": "markdown",
   "metadata": {},
   "source": [
    "Under [WEkEO DATA](https://wekeo.eu/data?view=catalogue). Clicking the + to add a layer, opens a catalogue search where you cna use free text.You can look for example for *`sentinel-3`* and browse through the results. You can also use the filter options on the left to refine your search and look by satellite plaform, sensor, Copernicus service, area (region of interest), general time period (past or future), as well as through a variety of flags.\n",
    "\n",
    "\n",
    "You can click on the dataset you are interested in and you will be guided to a range of details including the dataset temporal and spatial extent, collection ID, and metadata.\n",
    "\n",
    "<br>\n",
    "\n",
    "<div style='text-align:center;'>\n",
    "<figure><img src='./img/wekeo_data_search2.png' width='70%' />\n",
    "    <figcaption><i>WEkEO interface to search for datasets</i></figcaption>\n",
    "</figure>\n",
    "</div>"
   ]
  },
  {
   "cell_type": "markdown",
   "metadata": {},
   "source": [
    "### <a id='wekeo_dataset_id'></a>2. Get the Dataset ID "
   ]
  },
  {
   "cell_type": "markdown",
   "metadata": {},
   "source": [
    "The dataset description provides the following information:\n",
    "- **Abstract**, containing a general description of the dataset,\n",
    "- **Classification**, including the Dataset ID \n",
    "- **Resources**, such as a link to the Product Data Format Specification guide, and JSON metadata\n",
    "- **Contacts**, where you can find further information about the data source from its provider.  \n",
    "\n",
    "You need the `Dataset ID` to request data from the Harmonised Data Access API. \n",
    "\n",
    "For `OLCI Level 1B Full Resolution - Sentinel-3` data for example, the collection ID is `EO:EUM:DAT:SENTINEL-3:OL_1_EFR___`.\n",
    "\n",
    "<br>\n",
    "\n",
    "<div style='text-align:center;'>\n",
    "<figure><img src='./img/wekeo_collection_id2.png' width='60%' />\n",
    "    <figcaption><i>Dataset information on WEkEO</i></figcaption>\n",
    "</figure>\n",
    "</div>\n",
    "<br>\n",
    "\n",
    "Let's store the Dataset ID as a variable called `dataset_id` to be used later."
   ]
  },
  {
   "cell_type": "code",
   "execution_count": null,
   "metadata": {},
   "outputs": [],
   "source": [
    "dataset_id = \"EO:EUM:DAT:SENTINEL-3:OL_1_EFR___\""
   ]
  },
  {
   "cell_type": "markdown",
   "metadata": {},
   "source": [
    "### <a id='wekeo_api_key'></a>3. Get the WEkEO API key"
   ]
  },
  {
   "cell_type": "markdown",
   "metadata": {},
   "source": [
    "In order to interact with WEkEO's Harmonised Data Access API, each user requires an `API token`. This token can be generated from an `API Key`. Your current token can be found in your [WEkEO Dashboard](https://www.wekeo.eu/web/guest/dashboard) under Settings, but it is better to do it in a programmatic way, as shown below, as tokens have a limited lifetime of 1 hour!\n",
    "\n",
    "The `API key` can generated by encoding your `username` and `password` to Base64. You can use the function [generate_api_key](./hda_api_functions.ipynb#generate_api_key) to programmatically generate your Base64-encoded api key. For this, you have to replace the 'username' and 'password' strings with your WEkEO username and password in the cell below.\n",
    "\n",
    "Alternatively, you can go to this [website](https://www.base64encode.org/) that allows you to manually encode your `username:password` combination. An example of an encoded key is `wekeo-test:wekeo-test`, which is encoded to `d2VrZW8tdGVzdDp3ZWtlby10ZXN0`."
   ]
  },
  {
   "cell_type": "code",
   "execution_count": null,
   "metadata": {},
   "outputs": [],
   "source": [
    "# your WEkEO API username and password (needs to be in '  ')\n",
    "user_name = 'USERNAME'\n",
    "password = 'PASSWORD'"
   ]
  },
  {
   "cell_type": "code",
   "execution_count": null,
   "metadata": {},
   "outputs": [],
   "source": [
    "api_key = generate_api_key(user_name, password)\n",
    "display(HTML('Your API key is: <b>'+api_key+'</b>'))"
   ]
  },
  {
   "cell_type": "markdown",
   "metadata": {},
   "source": [
    "#### Alternative: enter manually the generated api key"
   ]
  },
  {
   "cell_type": "code",
   "execution_count": null,
   "metadata": {},
   "outputs": [],
   "source": [
    "#api_key = "
   ]
  },
  {
   "cell_type": "markdown",
   "metadata": {},
   "source": [
    "### <a id='wekeo_hda_request'></a>4. Initialise the Harmonised Data Access (HDA) API request"
   ]
  },
  {
   "cell_type": "markdown",
   "metadata": {},
   "source": [
    "In order to initialise an API request, you have to initialise a dictionary that contains information on `dataset_id`, `api_key` and `download_directory_path`.\n",
    "\n",
    "Please enter the path of the directory where the data shall be downloaded to."
   ]
  },
  {
   "cell_type": "code",
   "execution_count": null,
   "metadata": {},
   "outputs": [],
   "source": [
    "# Enter here the directory path where you want to download the data to\n",
    "download_dir_path = os.getcwd()"
   ]
  },
  {
   "cell_type": "markdown",
   "metadata": {},
   "source": [
    "With `dataset_id`, `api_key` and `download_dir_path`, you can initialise the dictionary with the function [init](./hda_api_functions.ipynb#init)."
   ]
  },
  {
   "cell_type": "code",
   "execution_count": null,
   "metadata": {},
   "outputs": [],
   "source": [
    "hda_dict = init(dataset_id, api_key, download_dir_path)"
   ]
  },
  {
   "cell_type": "markdown",
   "metadata": {},
   "source": [
    "#### Request access token"
   ]
  },
  {
   "cell_type": "markdown",
   "metadata": {},
   "source": [
    "Once initialised, you can request an access token with the function [get_access_token](./hda_api_functions.ipynb#get_access_token). The access token is stored in the `hda_dict` dictionary.\n",
    "\n",
    "You might need to accept the Terms and Conditions, which you can do with the function [acceptTandC](./hda_api_functions.ipynb#acceptTandC)."
   ]
  },
  {
   "cell_type": "code",
   "execution_count": null,
   "metadata": {},
   "outputs": [],
   "source": [
    "hda_dict = get_access_token(hda_dict)"
   ]
  },
  {
   "cell_type": "markdown",
   "metadata": {},
   "source": [
    "#### Accept Terms and Conditions (if applicable)"
   ]
  },
  {
   "cell_type": "code",
   "execution_count": null,
   "metadata": {},
   "outputs": [],
   "source": [
    "hda_dict = acceptTandC(hda_dict)"
   ]
  },
  {
   "cell_type": "markdown",
   "metadata": {},
   "source": [
    "### <a id='wekeo_json'></a>5. Load data descriptor file and request data"
   ]
  },
  {
   "cell_type": "markdown",
   "metadata": {},
   "source": [
    "The Harmonised Data Access API can read your data request from a `JSON` file. In this JSON-based file, you can describe the dataset you are interested in downloading. The file is in principle a dictionary. Following keys can be defined:\n",
    "- `datasetID`: the dataset's collection ID\n",
    "- `stringChoiceValues`: type of dataset, e.g. 'Non Time Critical'\n",
    "- `dataRangeSelectValues`: time period you would like to retrieve data\n",
    "- `boundingBoxValues`: optional to define a subset of a global field\n",
    "\n",
    "See an example of a `data descriptor` file [here](./olci_data_descriptor.json). You can also get a specific example of a `JSON` file for a particular query from the [WEkEO DATA](https://wekeo.eu/data?view=catalogue) portal when you search as above - you just need to click on API request and the information needed for the `JSON` file will be displayed.\n",
    "\n",
    "<br>\n",
    "\n",
    "<div style='text-align:center;'>\n",
    "<figure><img src='./img/wekeo_api_request.png' width='60%' />\n",
    "    <figcaption><i>Displaying a JSON query from a request made to the Harmonised Data Access API through the data portal</i></figcaption>\n",
    "</figure>\n",
    "</div>\n",
    "<br>"
   ]
  },
  {
   "cell_type": "markdown",
   "metadata": {},
   "source": [
    "You can load the `JSON` file with `json.load()`. Alternatively, you can copy paste the dictionary describing your data into a cell, as done below. Make sure to choose one option if you are inputting your own example! "
   ]
  },
  {
   "cell_type": "code",
   "execution_count": null,
   "metadata": {},
   "outputs": [],
   "source": [
    "try:\n",
    "    with open('./olci_data_descriptor.json', 'r') as f:\n",
    "        data = json.load(f)\n",
    "    print('Your JSON file:')\n",
    "    print(data)\n",
    "except:\n",
    "    print('Your JSON file is not in the correct format, or is not found, please check it!')"
   ]
  },
  {
   "cell_type": "code",
   "execution_count": null,
   "metadata": {},
   "outputs": [],
   "source": [
    "data = {\n",
    "    \"datasetId\": \"EO:EUM:DAT:SENTINEL-3:OL_1_EFR___\",\n",
    "    \"stringChoiceValues\": [\n",
    "    {\n",
    "        \"name\": \"platformname\",\n",
    "        \"value\": \"Sentinel-3\"\n",
    "    },\n",
    "    {\n",
    "        \"name\": \"producttype\",\n",
    "        \"value\": \"OL_1_EFR___\"\n",
    "    }\n",
    "    ],\n",
    "    \"dateRangeSelectValues\": [\n",
    "        {\n",
    "            \"name\": \"position\",\n",
    "            \"start\": \"2020-08-31T10:10:00.000Z\",\n",
    "            \"end\": \"2020-08-31T10:15:00.000Z\"\n",
    "        }\n",
    "    ],\n",
    "    \"boundingBoxValues\": [\n",
    "        {\n",
    "            \"name\": \"bbox\",\n",
    "            \"bbox\": [\n",
    "                0.88,\n",
    "                38.08,\n",
    "                4.15,\n",
    "                40.05\n",
    "            ]\n",
    "        }\n",
    "    ]\n",
    "}"
   ]
  },
  {
   "cell_type": "markdown",
   "metadata": {},
   "source": [
    "#### Initiate the request by assigning a job ID"
   ]
  },
  {
   "cell_type": "markdown",
   "metadata": {},
   "source": [
    "The function [get_job_id](./hda_api_functions.ipynb#get_job_id) will launch your data request and your request is assigned a `job ID`."
   ]
  },
  {
   "cell_type": "code",
   "execution_count": null,
   "metadata": {},
   "outputs": [],
   "source": [
    "hda_dict = get_job_id(hda_dict, data)"
   ]
  },
  {
   "cell_type": "markdown",
   "metadata": {},
   "source": [
    "#### Build list of file names to be ordered and downloaded"
   ]
  },
  {
   "cell_type": "markdown",
   "metadata": {},
   "source": [
    "The next step is to gather a list of file names available, based on your assigned `job ID`. The function [get_results_list](./hda_api_functions.ipynb#get_results_list) creates the list."
   ]
  },
  {
   "cell_type": "code",
   "execution_count": null,
   "metadata": {},
   "outputs": [],
   "source": [
    "hda_dict = get_results_list(hda_dict)"
   ]
  },
  {
   "cell_type": "markdown",
   "metadata": {},
   "source": [
    "#### Create an `order ID` for each file to be downloaded"
   ]
  },
  {
   "cell_type": "markdown",
   "metadata": {},
   "source": [
    "The next step is to create an `order ID` for each file name to be downloaded. You can use the function [get_order_ids](./hda_api_functions.ipynb#get_order_ids)."
   ]
  },
  {
   "cell_type": "code",
   "execution_count": null,
   "metadata": {
    "scrolled": true
   },
   "outputs": [],
   "source": [
    "hda_dict = get_order_ids(hda_dict)"
   ]
  },
  {
   "cell_type": "markdown",
   "metadata": {},
   "source": [
    "### <a id='wekeo_download'></a>6. Download requested data"
   ]
  },
  {
   "cell_type": "markdown",
   "metadata": {},
   "source": [
    "As a final step, you can use the function [download_data](./hda_api_functions.ipynb#download_data) to initialize the data download and to download each file that has been assigned an `order ID`. "
   ]
  },
  {
   "cell_type": "code",
   "execution_count": null,
   "metadata": {},
   "outputs": [],
   "source": [
    "hda_dict = download_data(hda_dict, file_extension='.zip')"
   ]
  },
  {
   "cell_type": "markdown",
   "metadata": {},
   "source": [
    "<hr>"
   ]
  }
 ],
 "metadata": {
  "kernelspec": {
   "display_name": "Python 3",
   "language": "python",
   "name": "python3"
  },
  "language_info": {
   "codemirror_mode": {
    "name": "ipython",
    "version": 3
   },
   "file_extension": ".py",
   "mimetype": "text/x-python",
   "name": "python",
   "nbconvert_exporter": "python",
   "pygments_lexer": "ipython3",
   "version": "3.7.0"
  }
 },
 "nbformat": 4,
 "nbformat_minor": 4
}
